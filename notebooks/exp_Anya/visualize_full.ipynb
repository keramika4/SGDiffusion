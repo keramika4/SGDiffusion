{
 "cells": [
  {
   "cell_type": "code",
   "execution_count": null,
   "id": "7de6e526",
   "metadata": {},
   "outputs": [],
   "source": [
    "import os\n",
    "import sys\n",
    "import numpy as np\n",
    "import matplotlib.pyplot as plt\n",
    "\n",
    "# Добавим корень проекта в sys.path\n",
    "project_root = os.path.abspath(os.path.join(os.getcwd(), \"..\"))\n",
    "sys.path.append(project_root)\n",
    "\n",
    "from src.utils import LOGGER\n",
    "\n",
    "# Папки с логами\n",
    "log_dirs = {\n",
    "    \"MLP + Periodic Embedding\": \"data/checkpoints/exp_mlp_plr\",\n",
    "    \"Finetune Periodic Only\": \"data/checkpoints/finetune_embedding_and_linear_frozen\",\n",
    "    \"MLP Baseline (No Embedding)\": \"data/checkpoints/mlp_baseline\"\n",
    "}\n",
    "\n",
    "log_name = \"log\"  # имя лог-файла в каждой папке\n",
    "\n",
    "plt.figure(figsize=(10, 6))\n",
    "\n",
    "for label, log_dir in log_dirs.items():\n",
    "    log_path = os.path.join(project_root, log_dir, log_name)\n",
    "    \n",
    "    # Загрузим логи\n",
    "    LOGGER.reset()\n",
    "    LOGGER.load(log_path)\n",
    "    \n",
    "    losses = np.array(LOGGER.dict[\"loss\"])\n",
    "    \n",
    "    # Визуализируем\n",
    "    plt.loglog(losses, label=label)\n",
    "\n",
    "plt.title(\"Loss over Training Steps\")\n",
    "plt.xlabel(\"Iteration\")\n",
    "plt.ylabel(\"Loss (log scale)\")\n",
    "plt.grid(True)\n",
    "plt.legend()\n",
    "plt.tight_layout()\n",
    "plt.show()"
   ]
  }
 ],
 "metadata": {
  "language_info": {
   "name": "python"
  }
 },
 "nbformat": 4,
 "nbformat_minor": 5
}
